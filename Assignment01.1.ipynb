{
  "nbformat": 4,
  "nbformat_minor": 0,
  "metadata": {
    "colab": {
      "provenance": [],
      "authorship_tag": "ABX9TyNBc0HC8WnAA4jCZ2e2BbBG",
      "include_colab_link": true
    },
    "kernelspec": {
      "name": "python3",
      "display_name": "Python 3"
    },
    "language_info": {
      "name": "python"
    }
  },
  "cells": [
    {
      "cell_type": "markdown",
      "metadata": {
        "id": "view-in-github",
        "colab_type": "text"
      },
      "source": [
        "<a href=\"https://colab.research.google.com/github/2303A510A3/AIML1/blob/main/Assignment01.ipynb\" target=\"_parent\"><img src=\"https://colab.research.google.com/assets/colab-badge.svg\" alt=\"Open In Colab\"/></a>"
      ]
    },
    {
      "cell_type": "code",
      "execution_count": 1,
      "metadata": {
        "id": "Uc88dGhJI_lD",
        "colab": {
          "base_uri": "https://localhost:8080/"
        },
        "outputId": "de838fba-ac9d-47c3-d182-f63aba3f533d"
      },
      "outputs": [
        {
          "output_type": "stream",
          "name": "stdout",
          "text": [
            "['BMW', 'sai', 5, 6, 7, 'teja']\n",
            "[2 5 6]\n",
            "[5 7 8]\n",
            "<class 'list'>\n",
            "<class 'numpy.ndarray'>\n",
            "<class 'numpy.ndarray'>\n",
            "[10 35 48]\n",
            "[0.4        0.71428571 0.75      ]\n",
            "[-3 -2 -2]\n",
            "Exponential values: [  7.3890561  148.4131591  403.42879349]\n",
            "[ 7 12 14]\n",
            "[2 5 6]\n",
            "[0.69314718 1.60943791 1.79175947]\n",
            "[1.60943791 1.94591015 2.07944154]\n",
            "[  7.3890561  148.4131591  403.42879349]\n"
          ]
        }
      ],
      "source": [
        "#part 1\n",
        "#1 Lists\n",
        "a = [\"BMW\", \"sai\",5,6,7,\"teja\"]\n",
        "print(a)\n",
        "\n",
        "#2 Arrays\n",
        "import numpy as np\n",
        "arr1 = np.array([2,5,6])\n",
        "arr2 = np.array([5,7,8])\n",
        "print(arr1)\n",
        "print(arr2)\n",
        "\n",
        "#3 Identify their type using type()\n",
        "print(type(a))\n",
        "print(type(arr1))\n",
        "print(type(arr2))\n",
        "\n",
        "#4Perform mathematical operations on these datasets created - multiplication, division,powerof\n",
        "multiplication=arr1*arr2\n",
        "print(multiplication)\n",
        "\n",
        "division = arr1/arr2\n",
        "print(division)\n",
        "\n",
        "sub = arr1-arr2\n",
        "print(sub)\n",
        "\n",
        "print(f\"Exponential values: {np.exp(arr1)}\")\n",
        "\n",
        "#5 Combine text with Numpy fuction to generate a textual output - ”Addition of Two:array1 +array 2\n",
        "Addition = arr1+arr2\n",
        "print(Addition)\n",
        "\n",
        "#6 mplement np.sin(), log(), log2(), np.exp())\n",
        "a=np.sin(arr1)\n",
        "print(arr1)\n",
        "\n",
        "b=np.log(arr1)\n",
        "print(b)\n",
        "\n",
        "c=np.log(arr2)\n",
        "print(c)\n",
        "\n",
        "d=np.exp((arr1))\n",
        "print(d)\n"
      ]
    }
  ]
}
