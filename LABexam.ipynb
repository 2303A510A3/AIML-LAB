{
  "nbformat": 4,
  "nbformat_minor": 0,
  "metadata": {
    "colab": {
      "provenance": [],
      "authorship_tag": "ABX9TyNjoFojLplfvxnTDuXjbmz4",
      "include_colab_link": true
    },
    "kernelspec": {
      "name": "python3",
      "display_name": "Python 3"
    },
    "language_info": {
      "name": "python"
    }
  },
  "cells": [
    {
      "cell_type": "markdown",
      "metadata": {
        "id": "view-in-github",
        "colab_type": "text"
      },
      "source": [
        "<a href=\"https://colab.research.google.com/github/2303A510A3/AIML-LAB/blob/main/LABexam.ipynb\" target=\"_parent\"><img src=\"https://colab.research.google.com/assets/colab-badge.svg\" alt=\"Open In Colab\"/></a>"
      ]
    },
    {
      "cell_type": "markdown",
      "source": [
        "LAB EXAM\n",
        "\n",
        "28)\n",
        " Prediction of Guitar Chords and Finger Positions in Song Composition\n",
        "1) Identify the top 5 chords most played\n",
        "2)Predict the finger positions used most in chords\n",
        "3)Top 5 string movements for song composition\n",
        "4)Name the chord condition most suitable for middle and pinkie\n",
        "5)Identify the chord with combination of middle, index, and ring fingers"
      ],
      "metadata": {
        "id": "Su4l9W1WoJpx"
      }
    },
    {
      "cell_type": "code",
      "source": [
        "csv_file_path = \"/content/chord-fingers.csv\"\n",
        "\n",
        "# Load the CSV file\n",
        "import pandas as pd\n",
        "chord_data = pd.read_csv(csv_file_path, delimiter=';', quotechar='\"', engine='python')\n",
        "\n",
        "# Preview the data\n",
        "print(chord_data.head())\n",
        "csv_file_path = \"chord-fingers.csv\"\n"
      ],
      "metadata": {
        "colab": {
          "base_uri": "https://localhost:8080/"
        },
        "id": "U64rgXiiv7Uz",
        "outputId": "fb1f6207-eb03-4d09-de15-491cf9c8b7e6"
      },
      "execution_count": 56,
      "outputs": [
        {
          "output_type": "stream",
          "name": "stdout",
          "text": [
            "  CHORD_ROOT CHORD_TYPE   CHORD_STRUCTURE FINGER_POSITIONS        NOTE_NAMES\n",
            "0         A#         13  1;3;5;b7;9;11;13      x,1,0,2,3,4  A#,C##,G#,B#,F##\n",
            "1         A#         13  1;3;5;b7;9;11;13      4,x,3,2,1,1  A#,G#,B#,C##,F##\n",
            "2         A#         13  1;3;5;b7;9;11;13      1,x,1,2,3,4  A#,G#,C##,F##,B#\n",
            "3         A#      7(#9)       1;3;5;b7;#9      x,1,0,2,4,3  A#,C##,G#,B##,E#\n",
            "4         A#      7(#9)       1;3;5;b7;#9      2,1,3,3,3,x  A#,C##,G#,B##,E#\n"
          ]
        }
      ]
    },
    {
      "cell_type": "markdown",
      "source": [
        "1) Identify the Top 5 Chords Most Played\n"
      ],
      "metadata": {
        "id": "c3oaPhbI0qgx"
      }
    },
    {
      "cell_type": "code",
      "source": [
        "top_chords = chord_data['CHORD_TYPE'].value_counts().head(5)\n",
        "print(\"Top 5 most played chords:\")\n",
        "print(top_chords)\n"
      ],
      "metadata": {
        "colab": {
          "base_uri": "https://localhost:8080/"
        },
        "id": "lqmO2iqf0mhd",
        "outputId": "68e12256-9642-4f89-8646-5121efc44751"
      },
      "execution_count": 57,
      "outputs": [
        {
          "output_type": "stream",
          "name": "stdout",
          "text": [
            "Top 5 most played chords:\n",
            "CHORD_TYPE\n",
            "7       208\n",
            "maj     203\n",
            "m7      177\n",
            "m       154\n",
            "dim7    142\n",
            "Name: count, dtype: int64\n"
          ]
        }
      ]
    },
    {
      "cell_type": "markdown",
      "source": [
        "2) Predict the finger positions used most in chords:"
      ],
      "metadata": {
        "id": "o4ZLBvS4wYyO"
      }
    },
    {
      "cell_type": "code",
      "source": [
        "finger_positions = chord_data['FINGER_POSITIONS'].value_counts().head(5)\n",
        "print(\"Top 5 finger positions used:\")\n",
        "print(finger_positions)\n"
      ],
      "metadata": {
        "colab": {
          "base_uri": "https://localhost:8080/"
        },
        "id": "iJs-wvHd0yrI",
        "outputId": "dbf05894-5232-4d5a-e375-3df941fd2d34"
      },
      "execution_count": 58,
      "outputs": [
        {
          "output_type": "stream",
          "name": "stdout",
          "text": [
            "Top 5 finger positions used:\n",
            "FINGER_POSITIONS\n",
            "x,x,1,3,2,4    68\n",
            "x,2,1,3,4,x    57\n",
            "x,2,3,1,4,x    40\n",
            "x,1,3,2,4,x    29\n",
            "2,x,3,4,1,x    28\n",
            "Name: count, dtype: int64\n"
          ]
        }
      ]
    },
    {
      "cell_type": "markdown",
      "source": [
        "3)  Top 5 string movements for song composition:"
      ],
      "metadata": {
        "id": "2nn7sLgL01Vu"
      }
    },
    {
      "cell_type": "code",
      "source": [
        "# Assuming \"string movements\" can be derived from `FINGER_POSITIONS`, split and analyze:\n",
        "chord_data['String Movements'] = chord_data['FINGER_POSITIONS'].str.split(',')\n",
        "string_movements = chord_data.explode('String Movements')['String Movements'].value_counts().head(5)\n",
        "print(\"Top 5 string movements:\")\n",
        "print(string_movements)\n"
      ],
      "metadata": {
        "colab": {
          "base_uri": "https://localhost:8080/"
        },
        "id": "dmZ8oJi104K8",
        "outputId": "97eeefda-71b7-4268-bd92-d34a06a0d0f8"
      },
      "execution_count": 59,
      "outputs": [
        {
          "output_type": "stream",
          "name": "stdout",
          "text": [
            "Top 5 string movements:\n",
            "String Movements\n",
            "x    4477\n",
            "1    4246\n",
            "3    2513\n",
            "2    2008\n",
            "4    1678\n",
            "Name: count, dtype: int64\n"
          ]
        }
      ]
    },
    {
      "cell_type": "markdown",
      "source": [
        "4) Chord condition most suitable for middle and pinkie:"
      ],
      "metadata": {
        "id": "588RSl7b06z9"
      }
    },
    {
      "cell_type": "code",
      "source": [
        "# Filter chords where middle (2) and pinkie (4) are used\n",
        "suitable_chords = chord_data[chord_data['FINGER_POSITIONS'].str.contains('2') &\n",
        "                             chord_data['FINGER_POSITIONS'].str.contains('4')]\n",
        "print(\"Chords suitable for middle and pinkie:\")\n",
        "print(suitable_chords['CHORD_TYPE'].unique())\n"
      ],
      "metadata": {
        "colab": {
          "base_uri": "https://localhost:8080/"
        },
        "id": "haX4mTrt09SO",
        "outputId": "1e02d9c1-c643-482c-b0d4-ec4bc535e141"
      },
      "execution_count": 60,
      "outputs": [
        {
          "output_type": "stream",
          "name": "stdout",
          "text": [
            "Chords suitable for middle and pinkie:\n",
            "['13' '7(#9)' '9' '9b5' '7' 'dim7' 'aug' 'maj' '11' 'maj9' 'm' '7b5' 'm7'\n",
            " 'dim' '6' '7(#5)' '7sus4' 'maj7' 'm6' '7(b9)' 'm9' 'sus4' '6/9' 'm11'\n",
            " 'm7b5' '9(#11)' '7(#11)' 'maj13' 'm(maj7)' '13(b9)' '9(#5)' '13(#11)'\n",
            " 'add9' '13(#9)' 'sus2' 'm13' 'm6/9' '5' 'm(maj9)']\n"
          ]
        }
      ]
    },
    {
      "cell_type": "markdown",
      "source": [
        "5) Identify the chord with the combination of middle, index, and ring fingers:"
      ],
      "metadata": {
        "id": "Q9Kz1XvE1AnJ"
      }
    },
    {
      "cell_type": "code",
      "source": [
        "# Filter chords where middle (2), index (1), and ring (3) are used\n",
        "combo_chords = chord_data[chord_data['FINGER_POSITIONS'].str.contains('2') &\n",
        "                          chord_data['FINGER_POSITIONS'].str.contains('1') &\n",
        "                          chord_data['FINGER_POSITIONS'].str.contains('3')]\n",
        "print(\"Chords using middle, index, and ring fingers:\")\n",
        "print(combo_chords['CHORD_TYPE'].unique())\n"
      ],
      "metadata": {
        "colab": {
          "base_uri": "https://localhost:8080/"
        },
        "id": "4HuP4coQ1DBC",
        "outputId": "9668537d-a836-48c8-9123-ba65a2c45a66"
      },
      "execution_count": 61,
      "outputs": [
        {
          "output_type": "stream",
          "name": "stdout",
          "text": [
            "Chords using middle, index, and ring fingers:\n",
            "['13' '7(#9)' '9' '9b5' '7' 'dim7' 'aug' 'maj' '11' 'maj9' 'm' '7b5' 'm7'\n",
            " 'dim' '6' '7(#5)' '7sus4' 'maj7' 'm6' '7(b9)' 'm9' 'sus4' '6/9' 'm11'\n",
            " 'm7b5' '9(#11)' '7(#11)' 'maj13' 'm(maj7)' '13(b9)' '13(#11)' '7(b13)'\n",
            " 'add9' '13(#9)' '9(#5)' 'm13' 'm6/9' 'm(maj9)']\n"
          ]
        }
      ]
    }
  ]
}